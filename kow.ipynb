{
 "cells": [
  {
   "cell_type": "markdown",
   "metadata": {},
   "source": [
    "# Generating player profiles\n",
    "\n",
    "To simulate our tournament, let us first generate \"player profiles\". I will use the ELO system to determine\n",
    "the relative probability to win of each player. I ll use the common chess interpretation for this (although assuming a smaller gap between the very best players and the average ones). So an ELO of 1000 is used for a beginner, an average player has an ELO around 1200-1400, your local club champion is around 1800-2000, and I'll arbitrary assume our national masters are around 2200. Clearly, as for all arbitrary decisions in this discussion, this can potentially be the subject of debates but hopefully we will obtain similar patterns while varying these parameters.\n",
    "\n",
    "I ll consider a 32 player tournaments, which nicely converges to a maximum of one player with five wins if winners only play against winners, in which case ideally this player should be the winner (we will see that unfortunately this is NOT the case for most systems).\n"
   ]
  },
  {
   "cell_type": "code",
   "execution_count": 17,
   "metadata": {},
   "outputs": [],
   "source": [
    "N_PLAYERS = 32\n",
    "MIN_ELO = 1000\n",
    "MAX_ELO = 2200\n",
    "AVG_ELO = 1400"
   ]
  },
  {
   "cell_type": "markdown",
   "metadata": {},
   "source": [
    "## Probability of Winning Based on ELO Ratings\n",
    "\n",
    "What does it mean to have a certain ELO rating? \n",
    "For two players, Player A and Player B, with ELO ratings $( R_A )$ and $( R_B )$ respectively, the expected score (probability of winning) for player A can be calculated using the following formulas:\n",
    "\n",
    "$$ E_A = \\frac{1}{1 + 10^{(R_B - R_A) / 400}} $$\n",
    "\n",
    "So what are the chances of a  local club champion to beat a national master?\n",
    "let's see:"
   ]
  },
  {
   "cell_type": "code",
   "execution_count": 18,
   "metadata": {},
   "outputs": [
    {
     "name": "stdout",
     "output_type": "stream",
     "text": [
      "Probability of Player A winning: 7.0%\n",
      "Probability of Player B winning: 93.0%\n"
     ]
    }
   ],
   "source": [
    "def win_probability(rating_a, rating_b):\n",
    "    \"\"\"\n",
    "    Compute the probability of Player A winning against Player B based on their Elo ratings.\n",
    "    \n",
    "    Parameters:\n",
    "    rating_a (float): Elo rating of Player A.\n",
    "    rating_b (float): Elo rating of Player B.\n",
    "    \n",
    "    Returns:\n",
    "    float: Probability of Player A winning.\n",
    "    \"\"\"\n",
    "    prob_a = 1 / (1 + 10 ** ((rating_b - rating_a) / 400))\n",
    "    \n",
    "    return prob_a\n",
    "\n",
    "\n",
    "rating_a = 1750\n",
    "rating_b = 2200\n",
    "\n",
    "prob_a = win_probability(rating_a, rating_b)\n",
    "\n",
    "print(f\"Probability of Player A winning: {prob_a * 100.:.1f}%\")\n",
    "print(f\"Probability of Player B winning: {100*(1.-prob_a):.1f}%\")"
   ]
  },
  {
   "cell_type": "markdown",
   "metadata": {},
   "source": [
    "What about a very good local club champion vs a top player ?"
   ]
  },
  {
   "cell_type": "code",
   "execution_count": 19,
   "metadata": {},
   "outputs": [
    {
     "name": "stdout",
     "output_type": "stream",
     "text": [
      "Probability of Player A winning: 24.0%\n",
      "Probability of Player B winning: 76.0%\n"
     ]
    }
   ],
   "source": [
    "rating_a = 2000\n",
    "rating_b = 2200\n",
    "\n",
    "prob_a = win_probability(rating_a, rating_b)\n",
    "\n",
    "print(f\"Probability of Player A winning: {prob_a * 100.:.1f}%\")\n",
    "print(f\"Probability of Player B winning: {100*(1.-prob_a):.1f}%\")"
   ]
  },
  {
   "cell_type": "markdown",
   "metadata": {},
   "source": [
    "Let us also check that two equivalent players have similar chances of winning"
   ]
  },
  {
   "cell_type": "code",
   "execution_count": 20,
   "metadata": {},
   "outputs": [
    {
     "name": "stdout",
     "output_type": "stream",
     "text": [
      "Probability of Player A winning: 50.0%\n",
      "Probability of Player B winning: 50.0%\n"
     ]
    }
   ],
   "source": [
    "rating_a = 1300\n",
    "rating_b = 1300\n",
    "\n",
    "prob_a = win_probability(rating_a, rating_b)\n",
    "\n",
    "print(f\"Probability of Player A winning: {prob_a * 100.:.1f}%\")\n",
    "print(f\"Probability of Player B winning: {100*(1.-prob_a):.1f}%\")"
   ]
  },
  {
   "cell_type": "markdown",
   "metadata": {},
   "source": [
    "## Generating 32 players\n",
    "\n",
    "I will now generate player profiles, with a normal distribution centered around 1400 and plot the resulting ELOs to check that this is somewhat what we expect in terms of player distribution. To check that the distribution is what we expect I ll generate more than 32, say 10000 instead, otherwise the results will not be representative."
   ]
  },
  {
   "cell_type": "code",
   "execution_count": 21,
   "metadata": {},
   "outputs": [
    {
     "data": {
      "image/png": "[encoded data removed]",
      "text/plain": [
       "<Figure size 432x288 with 1 Axes>"
      ]
     },
     "metadata": {
      "needs_background": "light"
     },
     "output_type": "display_data"
    }
   ],
   "source": [
    "import numpy as np\n",
    "import matplotlib.pyplot as plt\n",
    "import scipy.stats as stats\n",
    "from scipy.stats import truncnorm\n",
    "\n",
    "std_dev = 350\n",
    "def generate_normal_elo_ratings(num_ratings=N_PLAYERS, mean=AVG_ELO, std_dev=std_dev, lower_bound=MIN_ELO, upper_bound=MAX_ELO):\n",
    "    X = truncnorm((lower_bound - mean) / std_dev, (upper_bound - mean) / std_dev, loc=mean, scale=std_dev) \n",
    "    return X.rvs(num_ratings)\n",
    "\n",
    "def plot_ratings(elo_ratings):# Plot the histogram of Elo ratings\n",
    "    plt.hist(elo_ratings, bins=50, density=True, alpha=0.6, color='b', edgecolor='black')\n",
    "\n",
    "    # Plot the normal distribution curve\n",
    "    xmin, xmax = 1000, 2200\n",
    "    x = np.linspace(xmin, xmax, 100)\n",
    "    p = stats.norm.pdf(x, AVG_ELO, std_dev)\n",
    "    plt.plot(x, p, 'k', linewidth=2)\n",
    "\n",
    "    # Add titles and labels\n",
    "    plt.title('Distribution of Elo Ratings')\n",
    "    plt.xlabel('Elo Rating')\n",
    "    plt.ylabel('Density')\n",
    "\n",
    "    # Show the plot\n",
    "    plt.show()\n",
    "\n",
    "elo_ratings = generate_normal_elo_ratings(num_ratings=10000)\n",
    "plot_ratings(elo_ratings)\n",
    "\n"
   ]
  },
  {
   "cell_type": "markdown",
   "metadata": {},
   "source": [
    "Ok, it looks like our code runs correctly. In average our players have an ELO of 1400 and only a minority will be among the very top. To generate a set of player profiles I can now simply call:"
   ]
  },
  {
   "cell_type": "code",
   "execution_count": 22,
   "metadata": {},
   "outputs": [],
   "source": [
    "player_profiles = generate_normal_elo_ratings()\n"
   ]
  },
  {
   "cell_type": "markdown",
   "metadata": {},
   "source": [
    "Let's plot an example of player profiles for one tournament, sorted by their theoretical ELOs."
   ]
  },
  {
   "cell_type": "code",
   "execution_count": 23,
   "metadata": {},
   "outputs": [
    {
     "data": {
      "image/png": "[encoded data removed]",
      "text/plain": [
       "<Figure size 432x288 with 1 Axes>"
      ]
     },
     "metadata": {
      "needs_background": "light"
     },
     "output_type": "display_data"
    }
   ],
   "source": [
    "player_profiles = sorted(generate_normal_elo_ratings())\n",
    "indices = list(range(len(player_profiles)))\n",
    "plt.scatter(indices, player_profiles)\n",
    "plt.title('Elo Ratings')\n",
    "plt.xlabel('Index')\n",
    "plt.ylabel('Elo Rating')\n",
    "plt.grid(True)\n",
    "plt.show()"
   ]
  },
  {
   "cell_type": "markdown",
   "metadata": {},
   "source": [
    "In this event there are a few beginners, a good distribution of average players, few local champions and one contendent for the Uk masters! In our tests we will run several instances of tournaments under different systems to obtain a comparison of the outcomes as fair as possible"
   ]
  },
  {
   "cell_type": "markdown",
   "metadata": {},
   "source": [
    "# Simulating a game.\n",
    "\n",
    "To play a game, we already know the probability for a player A to win against player B, but this is insufficient to determine the outcome of a KOW game according to the main scoring systems. Indeed, we need to consider draws, Kill points and scenario points.\n",
    "\n",
    "## Win, Loss or draw ? \n",
    "The ELO system does not allow to predict draws directly. However, we can use an empirical distribution which, given the $E_A$ score, tells us the probability of winning / drawing or losing. I ll use the following table, arbitrarily assuming that 2 players with the same level will have 20% chances of drawing:\n",
    "\n",
    "| E[score] | P(win) | P(draw) | P(lose) |\n",
    "|----------|--------|---------|---------|\n",
    "| 0.0      | 0.00   | 0.00    | 1.00    |\n",
    "| 0.1      | 0.09   | 0.02    | 0.89    |\n",
    "| 0.2      | 0.17   | 0.06    | 0.77    |\n",
    "| 0.3      | 0.24   | 0.12    | 0.64    |\n",
    "| 0.4      | 0.31   | 0.18    | 0.51    |\n",
    "| 0.5      | 0.40   | 0.20    | 0.40    |\n",
    "| 0.6      | 0.51   | 0.18    | 0.31    |\n",
    "| 0.7      | 0.64   | 0.12    | 0.24    |\n",
    "| 0.8      | 0.77   | 0.06    | 0.17    |\n",
    "| 0.9      | 0.89   | 0.02    | 0.09    |\n",
    "| 1.0      | 1.00   | 0.00    | 0.00    |\n",
    "\n",
    "Using this table, we can \"play\" a game between two players and determine the outcome. I ll first interpolate the discrete values of the table to obtain a continuous definition of the probabilities:\n"
   ]
  },
  {
   "cell_type": "code",
   "execution_count": 24,
   "metadata": {},
   "outputs": [],
   "source": [
    "Es = [(float(i) * 0.1) for i in range (11)]\n",
    "def interpolate(data):\n",
    "    coeffs = np.polyfit(Es, data, 4)\n",
    "    poly_func = np.poly1d(coeffs)\n",
    "    return poly_func\n",
    "\n",
    "\n",
    "win_data  = [0. ,0.09,0.17,0.24,0.31,0.40,0.51,0.64,0.77,0.89,1.0]\n",
    "draw_data = [0. ,0.02,0.06,0.12,0.18,0.20,0.18,0.12,0.06,0.02,0.0]\n",
    "loss_data = win_data[:]; loss_data.reverse()\n",
    "loss_data\n",
    "p_win  = interpolate(win_data) \n",
    "p_draw = interpolate(draw_data) \n",
    "p_loss = interpolate(loss_data) \n",
    "   "
   ]
  },
  {
   "cell_type": "markdown",
   "metadata": {},
   "source": [
    "Let's plot our functions to check we are all good:"
   ]
  },
  {
   "cell_type": "code",
   "execution_count": 25,
   "metadata": {},
   "outputs": [
    {
     "data": {
      "image/png": "[encoded data removed]",
      "text/plain": [
       "<Figure size 432x288 with 1 Axes>"
      ]
     },
     "metadata": {
      "needs_background": "light"
     },
     "output_type": "display_data"
    },
    {
     "data": {
      "image/png": "[encoded data removed]",
      "text/plain": [
       "<Figure size 432x288 with 1 Axes>"
      ]
     },
     "metadata": {
      "needs_background": "light"
     },
     "output_type": "display_data"
    },
    {
     "data": {
      "image/png": "[encoded data removed]",
      "text/plain": [
       "<Figure size 432x288 with 1 Axes>"
      ]
     },
     "metadata": {
      "needs_background": "light"
     },
     "output_type": "display_data"
    }
   ],
   "source": [
    "def plot_interpolation(x_values, y_values, interp_x_values, interp_y_values, title):\n",
    "    \"\"\"\n",
    "    Plot the original values and the interpolated function.\n",
    "    \n",
    "    Parameters:\n",
    "    x_values (list or array): List of original x values.\n",
    "    y_values (list or array): List of original y values.\n",
    "    interp_x_values (array): Interpolated x values.\n",
    "    interp_y_values (array): Interpolated y values.\n",
    "    \"\"\"\n",
    "    plt.plot(x_values, y_values, 'o', label='Original Values')\n",
    "    plt.plot(interp_x_values, interp_y_values, '-', label='Interpolated Function')\n",
    "    plt.xlabel('E')\n",
    "    plt.ylabel('Probability')\n",
    "    plt.title(title)\n",
    "    plt.legend()\n",
    "    plt.grid(True)\n",
    "    plt.show()\n",
    "    \n",
    "interp_x_values = np.linspace(min(Es), max(Es), 100)\n",
    "interp_y_values = p_win(interp_x_values)\n",
    "plot_interpolation(Es, win_data, interp_x_values, interp_y_values, \"Winning probability based on ELO winning probability\")\n",
    "\n",
    "interp_x_values = np.linspace(min(Es), max(Es), 100)\n",
    "interp_y_values = p_draw(interp_x_values)\n",
    "plot_interpolation(Es, draw_data, interp_x_values, interp_y_values, \"Drawing probability based on ELO winning probability\")\n",
    "\n",
    "interp_x_values = np.linspace(min(Es), max(Es), 100)\n",
    "interp_y_values = p_loss(interp_x_values)\n",
    "plot_interpolation(Es, loss_data, interp_x_values, interp_y_values, \"Losing probability based on ELO winning probability\")\n"
   ]
  },
  {
   "cell_type": "markdown",
   "metadata": {},
   "source": [
    "I m allowing myself a few approximations here, because the sum of probabilities is only \"roughly\" equal to 1 (and also the drawing interpolation can give negative probabilities, but we will just assume they are 0 in the method proposed right after). While statisticians are probably dying at this point, I am pretty sure this is enough for our project, as long as the game resolution accounts for this. I will now write a function that given two ELO ratings, returns whether the outcome is a win, a draw or a loss for player A. For this I ll randomly generate a number between 0 and 1. If that number is lower or equal than the losing probability, then player A will have lost. If not and the number is lower or equal than the losing + drawing probability, then the result is a draw. Otherwise, player A will have won. \n",
    "\n",
    "We will return 1 for a loss, 2 for a draw, and 3 for a win"
   ]
  },
  {
   "cell_type": "code",
   "execution_count": 26,
   "metadata": {},
   "outputs": [],
   "source": [
    "from numpy import random\n",
    "def play_match(rating_a, rating_b):\n",
    "    \"\"\"\n",
    "    Determine the outcome of a match between player A and B\n",
    "    \n",
    "    Parameters:\n",
    "    rating_a (float): Elo rating of Player A.\n",
    "    rating_b (float): Elo rating of Player B.\n",
    "    \n",
    "    Returns:\n",
    "    int: 1, 2 or 3 respectively if player A lost, drew or won\n",
    "    \"\"\"\n",
    "    prob_a = win_probability(rating_a, rating_b)\n",
    "    roll = random.uniform(0, 1)\n",
    "    if roll <= p_loss(prob_a):\n",
    "        return 1\n",
    "    elif roll <= p_loss(prob_a) + p_draw(prob_a):\n",
    "        return 2\n",
    "    else:\n",
    "        return 3\n",
    "    \n",
    "    \n"
   ]
  },
  {
   "cell_type": "markdown",
   "metadata": {},
   "source": [
    "As always let's check that the outcome is what we expect somehow"
   ]
  },
  {
   "cell_type": "code",
   "execution_count": 27,
   "metadata": {},
   "outputs": [
    {
     "data": {
      "image/png": "[encoded data removed]",
      "text/plain": [
       "<Figure size 432x288 with 1 Axes>"
      ]
     },
     "metadata": {
      "needs_background": "light"
     },
     "output_type": "display_data"
    }
   ],
   "source": [
    "int_list = [play_match(1500, 1500) for _ in range (10000)]\n",
    "occurrences = [int_list.count(1), int_list.count(2), int_list.count(3)]\n",
    "    \n",
    "# Integer labels\n",
    "integers = [\"Loss\", \"Draw\", \"Win\"]\n",
    "    \n",
    "# Plotting\n",
    "plt.bar(integers, occurrences, color=['blue', 'orange', 'green'])\n",
    "plt.xlabel('Outcome')\n",
    "plt.ylabel('Occurrences')\n",
    "plt.title('Win / Draw / Loss distribution')\n",
    "plt.xticks(integers)\n",
    "plt.grid(axis='y', linestyle='--', alpha=0.7)\n",
    "plt.show()"
   ]
  },
  {
   "cell_type": "markdown",
   "metadata": {},
   "source": [
    "## How big is a win / loss ?\n",
    "Depending on the scoring system, a big win or loss has a different meaning in terms of KP / VP etc. So for now, we will simply attribute a score between 0 and 1 that says how \"good\" was the win/ the draw / the loss. A score of 1 means that the player should score the maximum number of points while a score or 0 means that the victory is the minimum possible. In the outcome, there will be one such number per player as for instance in the Northern Kings scoring system you can lose but kill most of the opponent army. These two numbers will later be interpreted by the scoring system to output a viable outcome.\n",
    "\n",
    "I chose to link the probability of a \"big\" win to the actual probability of winning, by centering the distribution of the sample around it. For instance if you have a probability of winning of 80% the winning score is likely to be around 0.8, although a score of 0 remains possible but less likely. Let us reimplement the ```play_match``` function accordingly. Instead of outputting only a result, it also outputs 2 additional numbers who represents the score of each player"
   ]
  },
  {
   "cell_type": "code",
   "execution_count": 182,
   "metadata": {},
   "outputs": [],
   "source": [
    "from numpy import random\n",
    "\n",
    "def biased_draw(mean, std_dev = 0.1):\n",
    "    X = truncnorm((0. - mean) / std_dev, (1. - mean) / std_dev, loc=mean, scale=std_dev)\n",
    "    return X.rvs()[0]\n",
    "\n",
    "\n",
    "def play_match(rating_a, rating_b):\n",
    "    \"\"\"\n",
    "    Determine the outcome of a match between player A and B\n",
    "    \n",
    "    Parameters:\n",
    "    rating_a (float): Elo rating of Player A.\n",
    "    rating_b (float): Elo rating of Player B.\n",
    "    \n",
    "    Returns:\n",
    "    a triplet:\n",
    "        int: 1, 2 or 3 respectively if player A lost, drew or won\n",
    "        float: a [0,1] float indicative of how many points should the player A receive \n",
    "        float: a [0,1] float indicative of how many points should the player B receive \n",
    "    \"\"\"\n",
    "    prob_a = win_probability(rating_a, rating_b)\n",
    "    roll = random.uniform(0, 1)\n",
    "    outcome_number = -1 \n",
    "    outcome_rate_a = -1.;\n",
    "    outcome_rate_b = -1.;\n",
    "    if roll <= p_loss(prob_a):\n",
    "        outcome_number = 1 #loss        \n",
    "    elif roll <= p_loss(prob_a) + p_draw(prob_a):\n",
    "        outcome_number = 2 #draw\n",
    "    else:\n",
    "        outcome_number = 3 #win\n",
    "    outcome_rate_a = biased_draw(p_win(prob_a));\n",
    "    outcome_rate_b = biased_draw(p_win(1.-prob_a));\n",
    "    return [outcome_number, outcome_rate_a, outcome_rate_b]\n",
    "    "
   ]
  },
  {
   "cell_type": "markdown",
   "metadata": {},
   "source": [
    "Let's just check that this works. Let's have two players with a ELO rating difference of about 240, such that  player A has about 77% chances of winning. Let's have them play N times and check that:\n",
    "+ overall player A wins 77% of the time\n",
    "+ Whether he wins, draws or loses, the score is centered around 0.77 \n",
    "+ Player B's score is centered around 0.17"
   ]
  },
  {
   "cell_type": "code",
   "execution_count": 183,
   "metadata": {},
   "outputs": [
    {
     "name": "stdout",
     "output_type": "stream",
     "text": [
      "percentage of wins 76.97\n"
     ]
    },
    {
     "data": {
      "image/png": "[encoded data removed]",
      "text/plain": [
       "<Figure size 432x288 with 1 Axes>"
      ]
     },
     "metadata": {
      "needs_background": "light"
     },
     "output_type": "display_data"
    },
    {
     "data": {
      "image/png": "[encoded data removed]",
      "text/plain": [
       "<Figure size 432x288 with 1 Axes>"
      ]
     },
     "metadata": {
      "needs_background": "light"
     },
     "output_type": "display_data"
    },
    {
     "data": {
      "image/png": "[encoded data removed]",
      "text/plain": [
       "<Figure size 432x288 with 1 Axes>"
      ]
     },
     "metadata": {
      "needs_background": "light"
     },
     "output_type": "display_data"
    }
   ],
   "source": [
    "rating_a = 1541\n",
    "rating_b = 1300\n",
    "prob_a = win_probability(rating_a, rating_b)\n",
    "prob_win = p_win(prob_a)\n",
    "\n",
    "matches = [play_match(rating_a, rating_b) for _ in range(10000)]\n",
    "\n",
    "wins   = [el for el in matches if el[0] == 3]\n",
    "losses = [el for el in matches if el[0] == 1]\n",
    "draws  = [el for el in matches if el[0] == 2]\n",
    "\n",
    "\n",
    "print (\"percentage of wins\", len(wins) / len(matches) * 100.)\n",
    "\n",
    "outcomes_win = [el[1]  for el in wins]\n",
    "plt.hist(outcomes_win, bins=30, color='blue', alpha=0.6, edgecolor='black')\n",
    "\n",
    "# Add title and labels\n",
    "plt.title(f'Winning scores for player a')\n",
    "plt.xlabel('Value')\n",
    "plt.ylabel('Frequency')\n",
    "\n",
    "# Show the plot\n",
    "plt.show()\n",
    "\n",
    "outcomes_losses = [el[1]  for el in losses]\n",
    "#plt.hist(outcomes_losses, bins=30, color='blue', alpha=0.6, edgecolor='black')\n",
    "\n",
    "# Add title and labels\n",
    "#plt.title(f'Losing scores for player a')\n",
    "#plt.xlabel('Value')\n",
    "#plt.ylabel('Frequency')\n",
    "\n",
    "# Show the plot\n",
    "#plt.show()\n",
    "\n",
    "outcomes_draws = [el[1]  for el in draws]\n",
    "plt.hist(outcomes_draws, bins=30, color='blue', alpha=0.6, edgecolor='black')\n",
    "\n",
    "# Add title and labels\n",
    "plt.title(f'Drawing scores for player a')\n",
    "plt.xlabel('Value')\n",
    "plt.ylabel('Frequency')\n",
    "\n",
    "# Show the plot\n",
    "plt.show()\n",
    "\n",
    "outcomes_b = [el[2]  for el in matches]\n",
    "plt.hist(outcomes_b, bins=30, color='blue', alpha=0.6, edgecolor='black')\n",
    "\n",
    "# Add title and labels\n",
    "plt.title(f'scores for player b')\n",
    "plt.xlabel('Value')\n",
    "plt.ylabel('Frequency')\n",
    "\n",
    "# Show the plot\n",
    "plt.show()\n",
    "\n"
   ]
  },
  {
   "cell_type": "markdown",
   "metadata": {},
   "source": [
    "After all this we now have a single function ```play_match``` that simulates a match between two players based on their ELO score.\n",
    "\n",
    "\n",
    "# Playing a KOW tournament\n",
    "We now have a mean of determining who wins. However there are other things that we need to consider if we want to compare scoring systems.\n",
    "\n",
    "First, we need to compare the systems based on the same outcome for all  possible encounters (which is a problem because the matches played will not be the same depending on the systems).\n",
    "\n",
    "\n",
    "Secondly, victory / loss / draw is not sufficient as we also need the kill points and the scenario points in most scoring systems. Other criteria might be considered but they are not relevant here in general.\n",
    "\n",
    "## Generating encounters data\n",
    "Depending on the system implemented, given the same outcomes different players will play against each other in a tournament. When comparing the system, to make sure that the same outcome is considered we will first simulate all the games possible (ie each player will play each other player). We will actually do this 5 times just to make sure that in the case players play several times against each other we also have these outcomes. (NB: the number of times players encounter each other is also a criteria for evaluating a scoring system). Given all the possible encounters outcome, we will then be able to apply each scoring system to the same data and evaluate the outcome of the tournament.\n",
    "\n",
    "From now on, each player is identified by its index in the ELO ratings list, between 0 and 31\n"
   ]
  },
  {
   "cell_type": "code",
   "execution_count": 184,
   "metadata": {},
   "outputs": [],
   "source": [
    "#we will store all the data into a list of list\n",
    "\n",
    "def play(elo, opponents):\n",
    "    return [[play_match(elo, elo_opponent) for _ in range(5)] for elo_opponent in opponents]\n",
    "\n",
    "def tournament_data(elo_ratings):\n",
    "    return [play(elo_ratings[i],elo_ratings[i+1:]) for i in range(len(elo_ratings)-1)]\n",
    "    \n",
    "        \n",
    "elo_ratings = generate_normal_elo_ratings(N_PLAYERS)\n",
    "tournament_matches = tournament_data(elo_ratings)\n",
    "\n"
   ]
  },
  {
   "cell_type": "markdown",
   "metadata": {},
   "source": [
    "To retrieve the outcome of a specific match we can write the following function. The ```remove_encounter``` parameter is used to remove the instance of the match and return a new outcome if players are to meet again.\n"
   ]
  },
  {
   "cell_type": "code",
   "execution_count": 185,
   "metadata": {},
   "outputs": [],
   "source": [
    "def rev(num):\n",
    "    if num == 1:\n",
    "        return 3\n",
    "    elif num == 3:\n",
    "        return 1\n",
    "    return 2\n",
    "\n",
    "#return outcomes from player A perspective\n",
    "def match_result(tournament_matches, playerAIndex, playerBIndex, remove_encounter=False):\n",
    "    minIdx = min(playerAIndex, playerBIndex);\n",
    "    maxIdx = max(playerAIndex, playerBIndex);\n",
    "    outcome = tournament_matches[minIdx][maxIdx-1-minIdx][0]\n",
    "    if playerAIndex > playerBIndex: #reverse outcomes\n",
    "        outcome =[rev(outcome[0]),outcome[2], outcome[1]]\n",
    "    if remove_encounter:\n",
    "        tournament_matches[minIdx][maxIdx-1-minIdx][:] = tournament_matches[minIdx][maxIdx-1-minIdx][1:]\n",
    "    return outcome        \n"
   ]
  },
  {
   "cell_type": "markdown",
   "metadata": {},
   "source": [
    "## \"Unrolling\" a tournament\n",
    "A tournament consists in the following steps:\n",
    "\n",
    "1. randomly assign opponents\n",
    "2. play all the games for the current round\n",
    "3. rank the players according to their current score\n",
    "4. If all the games have been played, go back to step 2. If not, the rank obtained is the final ranking\n",
    "\n",
    "In our case, step 1 is already solved. Since we randomly assign profiles to the player, we can simply assign matches by progressing towards the list of profiles. We will need to add more information on the player profile though: an Id and a current score. We will also add a history of their encounters as an helper.\n",
    "\n",
    "\n"
   ]
  },
  {
   "cell_type": "code",
   "execution_count": 186,
   "metadata": {},
   "outputs": [],
   "source": [
    "class Player:\n",
    "    def __init__(self, idx, elo):\n",
    "        self.idx = idx\n",
    "        self.elo = elo\n",
    "        self.score = 0\n",
    "        self.track = []\n",
    "    def __str__(self):\n",
    "        return f\"Player {self.idx}: Elo={self.elo}, Score={self.score}\\n\\t, Track{self.track}\"\n",
    "    def __repr__(self):\n",
    "        return f\"Player {self.idx}: Elo={self.elo}, Score={self.score}\\n\\t, Track{self.track}\""
   ]
  },
  {
   "cell_type": "markdown",
   "metadata": {},
   "source": [
    "Step 2 is just a matter of retrieving the outcomes which we computed before.\n",
    "\n",
    "Step 3 is specific to each scoring system, and is the focus of this section.\n",
    "\n",
    "We can thus easily write a \"play_tournament\" function that performs all of the steps given an abstract ranking method.\n",
    "We will write it recursively using the initial player profiles as the initial \"ranking\""
   ]
  },
  {
   "cell_type": "code",
   "execution_count": 187,
   "metadata": {},
   "outputs": [],
   "source": [
    "import copy\n",
    "\n",
    "def play_tournament(player_elos, matches_results, score_function):\n",
    "    #first create the players\n",
    "    players = [Player(i, elo) for (i, elo) in enumerate(player_elos)]\n",
    "    current_matches = copy.deepcopy(matches_results) \n",
    "    current_ranking = copy.deepcopy(players) \n",
    "    def play_round(current_round):\n",
    "        nonlocal current_ranking\n",
    "        nonlocal players\n",
    "        nonlocal current_matches\n",
    "        if current_round == 5: #all rounds have been played\n",
    "            return current_ranking\n",
    "        round_outcomes = [match_result(current_matches, current_ranking[i].idx, current_ranking[i+1].idx, remove_encounter=False) for i in range(0, len(current_ranking), 2)]\n",
    "        scores = [score_function(outcome) for outcome in round_outcomes]\n",
    "        for i, score in enumerate(scores):\n",
    "            current_ranking[2*i].score += score[0]\n",
    "            current_ranking[2*i+1].score += score[1]            \n",
    "            current_ranking[2*i].track   += [ \"player \" + str(current_ranking[2*i+1].idx) + \": \" + str(round_outcomes[i][0])]\n",
    "            current_ranking[2*i+1].track += [ \"player \" + str(current_ranking[2*i  ].idx) + \": \" + str(rev(round_outcomes[i][0]))]\n",
    "        current_ranking = sorted(current_ranking, key=lambda player: -player.score)\n",
    "        return play_round(current_round+1)\n",
    "    return play_round(1)\n",
    "    "
   ]
  },
  {
   "cell_type": "markdown",
   "metadata": {},
   "source": [
    "Let's test our tournament function with a naive scoring function that simply returns 10 times the outcome number (1, 2 or 3) + the \"goodness\" of the result"
   ]
  },
  {
   "cell_type": "code",
   "execution_count": 195,
   "metadata": {},
   "outputs": [],
   "source": [
    "player_elos = generate_normal_elo_ratings(N_PLAYERS); player_elos[0] = 5000\n",
    "matches_results = tournament_data(player_elos)"
   ]
  },
  {
   "cell_type": "code",
   "execution_count": 196,
   "metadata": {},
   "outputs": [],
   "source": [
    "def naive_score(result_triplet):\n",
    "    res1 = result_triplet[0]\n",
    "    res2 = rev(res1) \n",
    "    return [10*res1 + result_triplet[1], 10*res2 + result_triplet[2]]\n",
    "\n",
    "\n",
    "\n",
    "final_rank = play_tournament(player_elos, matches_results, naive_score)"
   ]
  },
  {
   "cell_type": "code",
   "execution_count": 197,
   "metadata": {},
   "outputs": [
    {
     "data": {
      "text/plain": [
       "[Player 0: Elo=5000.0, Score=123.54714131260988\n",
       " \t, Track['player 1: 3', 'player 24: 3', 'player 14: 3', 'player 28: 3'],\n",
       " Player 18: Elo=1812.3163979944707, Score=113.13968859337487\n",
       " \t, Track['player 19: 3', 'player 7: 2', 'player 12: 3', 'player 31: 3'],\n",
       " Player 26: Elo=2095.263933239742, Score=103.10821397546896\n",
       " \t, Track['player 27: 3', 'player 8: 3', 'player 28: 1', 'player 7: 3'],\n",
       " Player 27: Elo=2020.8919177088137, Score=102.9759043582349\n",
       " \t, Track['player 26: 1', 'player 10: 3', 'player 20: 3', 'player 23: 3'],\n",
       " Player 24: Elo=1775.8806066214322, Score=102.39268082316767\n",
       " \t, Track['player 25: 3', 'player 0: 1', 'player 16: 3', 'player 11: 3'],\n",
       " Player 30: Elo=1556.7003997518489, Score=101.97243969448353\n",
       " \t, Track['player 31: 1', 'player 4: 3', 'player 9: 3', 'player 14: 3'],\n",
       " Player 1: Elo=1577.2555234207127, Score=101.90580256408279\n",
       " \t, Track['player 0: 1', 'player 15: 3', 'player 19: 3', 'player 17: 3'],\n",
       " Player 28: Elo=1658.264648286399, Score=101.64790082115488\n",
       " \t, Track['player 29: 3', 'player 11: 3', 'player 26: 3', 'player 0: 1'],\n",
       " Player 31: Elo=1685.2419287942005, Score=101.47012902748118\n",
       " \t, Track['player 30: 3', 'player 23: 3', 'player 17: 3', 'player 18: 1'],\n",
       " Player 8: Elo=1366.6978103583342, Score=101.32985654565846\n",
       " \t, Track['player 9: 3', 'player 26: 1', 'player 3: 3', 'player 12: 3'],\n",
       " Player 7: Elo=1666.8098047397439, Score=91.76826022688489\n",
       " \t, Track['player 6: 3', 'player 18: 2', 'player 2: 3', 'player 26: 1'],\n",
       " Player 14: Elo=1740.8163791797579, Score=82.4132200678719\n",
       " \t, Track['player 15: 3', 'player 20: 3', 'player 0: 1', 'player 30: 1'],\n",
       " Player 5: Elo=1669.6195250647238, Score=82.35078106529741\n",
       " \t, Track['player 4: 3', 'player 17: 1', 'player 11: 1', 'player 22: 3'],\n",
       " Player 23: Elo=1796.1091139867085, Score=82.18011700389351\n",
       " \t, Track['player 22: 3', 'player 31: 1', 'player 25: 3', 'player 27: 1'],\n",
       " Player 11: Elo=1584.3215027831511, Score=81.98135178193193\n",
       " \t, Track['player 10: 3', 'player 28: 1', 'player 5: 3', 'player 24: 1'],\n",
       " Player 9: Elo=1494.9354930267766, Score=81.83562236987459\n",
       " \t, Track['player 8: 1', 'player 22: 3', 'player 30: 1', 'player 10: 3'],\n",
       " Player 17: Elo=1597.2225756972864, Score=81.6298680788986\n",
       " \t, Track['player 16: 3', 'player 5: 3', 'player 31: 1', 'player 1: 1'],\n",
       " Player 29: Elo=1205.842721410819, Score=81.3565771978873\n",
       " \t, Track['player 28: 1', 'player 19: 1', 'player 15: 3', 'player 4: 3'],\n",
       " Player 16: Elo=1303.4620766317594, Score=81.14610967725295\n",
       " \t, Track['player 17: 1', 'player 6: 3', 'player 24: 1', 'player 3: 3'],\n",
       " Player 2: Elo=1533.7676292865658, Score=71.93510953628703\n",
       " \t, Track['player 3: 1', 'player 13: 3', 'player 7: 1', 'player 20: 2'],\n",
       " Player 25: Elo=1592.2078432339383, Score=71.91496762759155\n",
       " \t, Track['player 24: 1', 'player 21: 3', 'player 23: 1', 'player 19: 2'],\n",
       " Player 20: Elo=1661.985202221741, Score=71.90945061049656\n",
       " \t, Track['player 21: 3', 'player 14: 1', 'player 27: 1', 'player 2: 2'],\n",
       " Player 19: Elo=1515.488812051236, Score=71.55640320726147\n",
       " \t, Track['player 18: 1', 'player 29: 3', 'player 1: 1', 'player 25: 2'],\n",
       " Player 12: Elo=1423.148956720762, Score=71.22480446305309\n",
       " \t, Track['player 13: 2', 'player 3: 3', 'player 18: 1', 'player 8: 1'],\n",
       " Player 13: Elo=1357.731994153694, Score=70.93070574900992\n",
       " \t, Track['player 12: 2', 'player 2: 1', 'player 22: 1', 'player 6: 3'],\n",
       " Player 22: Elo=1647.947804681075, Score=62.423511754809304\n",
       " \t, Track['player 23: 1', 'player 9: 1', 'player 13: 3', 'player 5: 1'],\n",
       " Player 3: Elo=1334.6589436569168, Score=61.39477999734962\n",
       " \t, Track['player 2: 3', 'player 12: 1', 'player 8: 1', 'player 16: 1'],\n",
       " Player 10: Elo=1311.4686886123768, Score=61.31479529579129\n",
       " \t, Track['player 11: 1', 'player 27: 1', 'player 6: 3', 'player 9: 1'],\n",
       " Player 4: Elo=1010.4694239274642, Score=61.007053446957144\n",
       " \t, Track['player 5: 1', 'player 30: 1', 'player 21: 3', 'player 29: 1'],\n",
       " Player 21: Elo=1037.680986781405, Score=60.92367573566031\n",
       " \t, Track['player 20: 1', 'player 25: 1', 'player 4: 1', 'player 15: 3'],\n",
       " Player 6: Elo=1218.3911204488143, Score=41.09041449258774\n",
       " \t, Track['player 7: 1', 'player 16: 1', 'player 10: 1', 'player 13: 1'],\n",
       " Player 15: Elo=1050.8496615421445, Score=40.79954895878109\n",
       " \t, Track['player 14: 1', 'player 1: 1', 'player 29: 1', 'player 21: 1']]"
      ]
     },
     "execution_count": 197,
     "metadata": {},
     "output_type": "execute_result"
    }
   ],
   "source": [
    "final_rank\n"
   ]
  },
  {
   "cell_type": "code",
   "execution_count": null,
   "metadata": {},
   "outputs": [],
   "source": []
  },
  {
   "cell_type": "code",
   "execution_count": null,
   "metadata": {},
   "outputs": [],
   "source": []
  }
 ],
 "metadata": {
  "kernelspec": {
   "display_name": "Python 3",
   "language": "python",
   "name": "python3"
  },
  "language_info": {
   "codemirror_mode": {
    "name": "ipython",
    "version": 3
   },
   "file_extension": ".py",
   "mimetype": "text/x-python",
   "name": "python",
   "nbconvert_exporter": "python",
   "pygments_lexer": "ipython3",
   "version": "3.8.3"
  }
 },
 "nbformat": 4,
 "nbformat_minor": 4
}
